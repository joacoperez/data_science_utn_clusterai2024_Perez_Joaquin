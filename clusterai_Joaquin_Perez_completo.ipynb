{
 "cells": [
  {
   "cell_type": "code",
   "execution_count": 1,
   "metadata": {
    "id": "ooLu4JYLIgxw"
   },
   "outputs": [],
   "source": [
    "import pandas as pd\n",
    "import numpy as np\n",
    "import seaborn as sns\n",
    "import matplotlib.pyplot as plt"
   ]
  },
  {
   "cell_type": "code",
   "execution_count": 2,
   "metadata": {
    "id": "eMyXJ3WfJb1O"
   },
   "outputs": [],
   "source": [
    "from sklearn import preprocessing\n",
    "from sklearn import linear_model\n",
    "from sklearn.model_selection import train_test_split, cross_val_score\n",
    "from sklearn.metrics import r2_score, mean_squared_error\n",
    "from sklearn.utils import shuffle\n",
    "from sklearn.preprocessing import StandardScaler\n",
    "from sklearn import preprocessing\n",
    "from sklearn.preprocessing import LabelEncoder\n",
    "from sklearn.linear_model import LinearRegression\n",
    "from sklearn.svm import SVR, LinearSVR\n",
    "from sklearn.metrics import mean_squared_error, make_scorer\n",
    "from sklearn.model_selection import GridSearchCV"
   ]
  },
  {
   "cell_type": "code",
   "execution_count": 3,
   "metadata": {
    "colab": {
     "base_uri": "https://localhost:8080/"
    },
    "id": "MFQft8XlJc6W",
    "outputId": "3c4f8801-c20e-4c10-d883-9fd97724777a"
   },
   "outputs": [
    {
     "ename": "ModuleNotFoundError",
     "evalue": "No module named 'google.colab'",
     "output_type": "error",
     "traceback": [
      "\u001b[1;31m---------------------------------------------------------------------------\u001b[0m",
      "\u001b[1;31mModuleNotFoundError\u001b[0m                       Traceback (most recent call last)",
      "Cell \u001b[1;32mIn[3], line 1\u001b[0m\n\u001b[1;32m----> 1\u001b[0m \u001b[38;5;28;01mfrom\u001b[39;00m \u001b[38;5;21;01mgoogle\u001b[39;00m\u001b[38;5;21;01m.\u001b[39;00m\u001b[38;5;21;01mcolab\u001b[39;00m \u001b[38;5;28;01mimport\u001b[39;00m drive\n\u001b[0;32m      2\u001b[0m drive\u001b[38;5;241m.\u001b[39mmount(\u001b[38;5;124m'\u001b[39m\u001b[38;5;124m/content/drive\u001b[39m\u001b[38;5;124m'\u001b[39m)\n",
      "\u001b[1;31mModuleNotFoundError\u001b[0m: No module named 'google.colab'"
     ]
    }
   ],
   "source": [
    "from google.colab import drive\n",
    "drive.mount('/content/drive')"
   ]
  },
  {
   "cell_type": "code",
   "execution_count": null,
   "metadata": {
    "id": "DUMYMQLGKJjm"
   },
   "outputs": [],
   "source": [
    "ruta_archivo = '/content/drive/MyDrive/CS Datos Grupo 9/telco_churn_clusterai.csv'\n",
    "customers_df = pd.read_csv(ruta_archivo)"
   ]
  },
  {
   "cell_type": "code",
   "execution_count": null,
   "metadata": {
    "colab": {
     "base_uri": "https://localhost:8080/"
    },
    "id": "TbvD2-RbK2TV",
    "outputId": "6aebd815-5941-4b80-a416-5847bed448cc"
   },
   "outputs": [],
   "source": [
    "filas, columnas = customers_df.shape\n",
    "print(f\"Filas: {filas}; Columnas: {columnas}\")"
   ]
  },
  {
   "cell_type": "code",
   "execution_count": null,
   "metadata": {
    "colab": {
     "base_uri": "https://localhost:8080/",
     "height": 360
    },
    "id": "oq1vicwl1HUH",
    "outputId": "fd72d046-d340-4359-de7b-2573e46a7386"
   },
   "outputs": [],
   "source": [
    "customers_df.head(5)"
   ]
  },
  {
   "cell_type": "code",
   "execution_count": null,
   "metadata": {
    "id": "WwWWh6WO3-QG"
   },
   "outputs": [],
   "source": [
    "#borro la columna que es un indice, tambien \"customerID\" ya que es un campo indintificatorio por cliente tambien y no tendra relevancia\n",
    "customers_df =customers_df.drop(columns=['Unnamed: 0', 'customerID'])"
   ]
  },
  {
   "cell_type": "code",
   "execution_count": null,
   "metadata": {
    "colab": {
     "base_uri": "https://localhost:8080/"
    },
    "id": "Lm8rjhAxOeln",
    "outputId": "f36354e3-6ee6-4a34-fbbd-aa74f53e88e6"
   },
   "outputs": [],
   "source": [
    "customers_df.info()"
   ]
  },
  {
   "cell_type": "code",
   "execution_count": null,
   "metadata": {
    "colab": {
     "base_uri": "https://localhost:8080/",
     "height": 746
    },
    "id": "slVFsSDNzTnJ",
    "outputId": "2fcf31d3-29c5-4336-aa13-e5f6a0f5a286"
   },
   "outputs": [],
   "source": [
    "#remplazo los espacios en blanco por nulos para poder identificarlos\n",
    "customers_df.replace(' ', np.nan, inplace=True)\n",
    "#vemos los valores nulos por columna\n",
    "print(\"\\nValores nulos por columna:\")\n",
    "customers_df.isnull().sum()"
   ]
  },
  {
   "cell_type": "code",
   "execution_count": null,
   "metadata": {
    "colab": {
     "base_uri": "https://localhost:8080/",
     "height": 520
    },
    "id": "q-6C3crHLI5h",
    "outputId": "497b2f7b-8359-41a0-a68e-62641d1fe503"
   },
   "outputs": [],
   "source": [
    "# Calculamos % los valores faltantes para cada una de las variables\n",
    "miss = pd.DataFrame(customers_df.isnull().mean(), columns=[\"Missing\"])\n",
    "perc_miss = miss.loc[miss.Missing > 0]\n",
    "perc_miss.sort_values(\"Missing\", ascending = False)"
   ]
  },
  {
   "cell_type": "code",
   "execution_count": null,
   "metadata": {
    "id": "ZyrYmCUV4xmk"
   },
   "outputs": [],
   "source": [
    "#no borramos filas porque es mucha data que se pierde, entonces hacemos un tratamientop sobre los nulos, dependiendo que represente cada campo\n"
   ]
  },
  {
   "cell_type": "code",
   "execution_count": null,
   "metadata": {
    "colab": {
     "base_uri": "https://localhost:8080/"
    },
    "id": "JAjzMfXCryXl",
    "outputId": "845b66bf-fa12-4f93-8e27-7cc74cdb85f5"
   },
   "outputs": [],
   "source": [
    "print(\"\\nEstadasticas:\")\n",
    "print(customers_df.describe(include='all'))"
   ]
  },
  {
   "cell_type": "markdown",
   "metadata": {
    "id": "tg5mX_18Y1fy"
   },
   "source": [
    "**texto en negrita**###"
   ]
  },
  {
   "cell_type": "code",
   "execution_count": null,
   "metadata": {
    "colab": {
     "base_uri": "https://localhost:8080/"
    },
    "id": "i2xkHI538ylA",
    "outputId": "93ae67fe-7691-4880-8b6b-df0bc7108c5d"
   },
   "outputs": [],
   "source": [
    "# Armo una lista de las columnas del tipo objeto o con \"categorias\", que tengan valores nulos\n",
    "categorical_cols = customers_df.select_dtypes(include=['object']).isnull().any().loc[lambda x: x].index.tolist()\n",
    "print(categorical_cols)"
   ]
  },
  {
   "cell_type": "code",
   "execution_count": null,
   "metadata": {
    "colab": {
     "base_uri": "https://localhost:8080/"
    },
    "id": "eoqZxl8ClH4E",
    "outputId": "c75899e5-9494-4041-be2c-2fddcdefc330"
   },
   "outputs": [],
   "source": [
    "#a las columnas categorias, le imputamos la moda a los nulos\n",
    "for col in categorical_cols:\n",
    "    if col in customers_df.columns:\n",
    "        # Imputar con la moda\n",
    "        customers_df[col].fillna(customers_df[col].mode()[0], inplace=True)"
   ]
  },
  {
   "cell_type": "code",
   "execution_count": null,
   "metadata": {
    "colab": {
     "base_uri": "https://localhost:8080/"
    },
    "id": "eIFL0yee-fz3",
    "outputId": "0ff5f4fe-43c2-4baf-e954-72267e226592"
   },
   "outputs": [],
   "source": [
    "# Armo una lista de las columnas del tipo float o numericas, que tengan valores nulos\n",
    "numeric_cols= customers_df.select_dtypes(include=['float64']).isnull().any().loc[lambda x: x].index.tolist()\n",
    "print(numeric_cols)\n"
   ]
  },
  {
   "cell_type": "code",
   "execution_count": null,
   "metadata": {
    "colab": {
     "base_uri": "https://localhost:8080/"
    },
    "id": "AQToiDSvqZzu",
    "outputId": "ea6b5efa-b131-46ba-89ee-d77f368f3cee"
   },
   "outputs": [],
   "source": [
    "#a las columnas numericoas, le imputamos la media\n",
    "for col in numeric_cols:\n",
    "    if col in customers_df.columns:\n",
    "        customers_df[col].fillna(customers_df[col].median(), inplace=True) # la mediana es menos sensible a outliers"
   ]
  },
  {
   "cell_type": "code",
   "execution_count": null,
   "metadata": {
    "colab": {
     "base_uri": "https://localhost:8080/"
    },
    "id": "8bp8HzUqqrQA",
    "outputId": "82cbf48e-df26-4718-e0fa-c026abdbebf7"
   },
   "outputs": [],
   "source": [
    "# verifico si quedan nulos\n",
    "print(\"Valores nulos restantes luego de las imputaciones:\")\n",
    "print(customers_df.isnull().sum())"
   ]
  },
  {
   "cell_type": "code",
   "execution_count": null,
   "metadata": {
    "colab": {
     "base_uri": "https://localhost:8080/"
    },
    "id": "U3TkI37LrDhL",
    "outputId": "b5376efd-f567-400b-b163-847c352c65ce"
   },
   "outputs": [],
   "source": [
    "print(\"\\nEstadisticas luego tratamiento:\")\n",
    "print(customers_df.describe(include='all'))"
   ]
  },
  {
   "cell_type": "markdown",
   "metadata": {
    "id": "RUuU396FDAZt"
   },
   "source": [
    "# Seleccion y trabajo de features con los que vamos a trabajar"
   ]
  },
  {
   "cell_type": "code",
   "execution_count": null,
   "metadata": {
    "colab": {
     "base_uri": "https://localhost:8080/"
    },
    "id": "6kRTNvnjHF4M",
    "outputId": "1b0f826e-677e-4608-fcfd-792ab66ddd78"
   },
   "outputs": [],
   "source": [
    "# Evaluo los valores de las columnas; observo que hay columnas donde se podria remplazar el \"No tiene servicio\" por un simple \"No\"\n",
    "\n",
    "for col in customers_df.columns:\n",
    "    unique_values = customers_df[col].unique()\n",
    "    print(f\"{col}: {unique_values}\")"
   ]
  },
  {
   "cell_type": "code",
   "execution_count": null,
   "metadata": {
    "colab": {
     "base_uri": "https://localhost:8080/"
    },
    "id": "0pGgBzFen42j",
    "outputId": "56050e14-f624-4c39-d972-d96dd4f8d245"
   },
   "outputs": [],
   "source": [
    "# Cambio el tipo de dato de la columna \"TotalCharges\" ya que esta como objeto pero es float\n",
    "customers_df['TotalCharges'] = customers_df['TotalCharges'].astype(float)\n",
    "\n",
    "customers_df['TotalCharges'].dtype"
   ]
  },
  {
   "cell_type": "code",
   "execution_count": null,
   "metadata": {
    "colab": {
     "base_uri": "https://localhost:8080/"
    },
    "id": "a29d3M5lSqIu",
    "outputId": "418c840c-5316-4dbe-859c-560912ffa269"
   },
   "outputs": [],
   "source": [
    "# Para ello armo una lista de las columnas con esta clase de datos en el dataframe \"customers_df\"\n",
    "columns_with_no_service = []\n",
    "\n",
    "for column in customers_df.columns:\n",
    "    unique_values = customers_df[column].unique()\n",
    "    if ('No internet service' in unique_values) or ('No phone service' in unique_values):\n",
    "        columns_with_no_service.append(column)\n",
    "\n",
    "print(columns_with_no_service)"
   ]
  },
  {
   "cell_type": "code",
   "execution_count": null,
   "metadata": {
    "id": "aJUfvxlYS342"
   },
   "outputs": [],
   "source": [
    "# Remplazo el \"No internet service\" por un \"No\" en la lista de las columnas buscadas\n",
    "for column in columns_with_no_service:\n",
    "   customers_df[column] = customers_df[column].replace(['No internet service','No phone service'], 'No')"
   ]
  },
  {
   "cell_type": "code",
   "execution_count": null,
   "metadata": {
    "colab": {
     "base_uri": "https://localhost:8080/"
    },
    "id": "656ZoXneGSBy",
    "outputId": "b613162f-e3fe-4cd7-a67e-5a7cb33767a9"
   },
   "outputs": [],
   "source": [
    "# Verifico que haya funcionado de la manera correcta en una de las columnas\n",
    "customers_df['MultipleLines'].unique()"
   ]
  },
  {
   "cell_type": "code",
   "execution_count": null,
   "metadata": {
    "id": "FBxXkHYGjLmy"
   },
   "outputs": [],
   "source": [
    "# Paso los valores de categoricos a numericos. Creando dummies para aquellos con mas de 2 valores posibles y para los que tiene menos de 2 valores simplemente lo factorizo\n",
    "\n",
    "categorical_cols = customers_df.select_dtypes(include=['object']).columns\n",
    "\n",
    "for col in categorical_cols:\n",
    "    if customers_df[col].nunique() > 2:\n",
    "        dummies = pd.get_dummies(customers_df[col], prefix=col, drop_first=False, dtype= float)\n",
    "        customers_df = pd.concat([customers_df, dummies], axis=1)\n",
    "        customers_df = customers_df.drop(columns=[col])\n",
    "    else:\n",
    "        customers_df[col] = pd.factorize(customers_df[col])[0]\n"
   ]
  },
  {
   "cell_type": "code",
   "execution_count": null,
   "metadata": {
    "colab": {
     "base_uri": "https://localhost:8080/",
     "height": 290
    },
    "id": "Gqy086kojaif",
    "outputId": "4adadd16-abff-4244-d9bd-14771ddcb012"
   },
   "outputs": [],
   "source": [
    "# Verifico el dataframe transformado\n",
    "customers_df.head()"
   ]
  },
  {
   "cell_type": "markdown",
   "metadata": {
    "id": "AuBknTiDMOyF"
   },
   "source": [
    "### TRATAMIENTO DE OUTLIERS"
   ]
  },
  {
   "cell_type": "code",
   "execution_count": null,
   "metadata": {
    "colab": {
     "base_uri": "https://localhost:8080/",
     "height": 1000
    },
    "id": "5miqmlGOz3b8",
    "outputId": "84e3be2c-7234-47a0-cacd-763a611c0c1e"
   },
   "outputs": [],
   "source": [
    "# Seleccionar columnas numéricas continuas\n",
    "numerical_cols = ['tenure','MonthlyCharges','TotalCharges']\n",
    "\n",
    "# Mostrar estadísticas descriptivas para las variables numéricas\n",
    "print(\"Estadísticas descriptivas de las variables numéricas continuas:\")\n",
    "print(customers_df[numerical_cols].describe())\n",
    "\n",
    "# Detectar y visualizar outliers con boxplots\n",
    "for col in numerical_cols:\n",
    "    plt.figure(figsize=(10, 5))\n",
    "    sns.boxplot(x=customers_df[col], palette=\"Set2\")\n",
    "    plt.title(f\"Boxplot para {col}\")\n",
    "    plt.xlabel(col)\n",
    "    plt.show()\n",
    "\n",
    "    # Mostrar histograma para ver la distribución\n",
    "    plt.figure(figsize=(10, 5))\n",
    "    sns.histplot(customers_df[col], kde=True, color=\"blue\", bins=30)\n",
    "    plt.title(f\"Histograma para {col}\")\n",
    "    plt.xlabel(col)\n",
    "    plt.ylabel(\"Frecuencia\")\n",
    "    plt.show()\n",
    "\n",
    "# Identificar valores atípicos según el rango intercuartílico (IQR)\n",
    "def detectar_outliers(customers_df, columnas):\n",
    "    outliers = {}\n",
    "    for col in columnas:\n",
    "        Q1 = customers_df[col].quantile(0.25)  # Primer cuartil\n",
    "        Q3 = customers_df[col].quantile(0.75)  # Tercer cuartil\n",
    "        IQR = Q3 - Q1                # Rango intercuartílico\n",
    "        lim_inferior = Q1 - 1.5 * IQR\n",
    "        lim_superior = Q3 + 1.5 * IQR\n",
    "\n",
    "        # Detectar filas que están fuera del rango\n",
    "        outliers[col] = customers_df[(customers_df[col] < lim_inferior) | (customers_df[col] > lim_superior)][col]\n",
    "\n",
    "        print(f\"\\nOutliers detectados en {col}:\")\n",
    "        print(f\"  Límite inferior: {lim_inferior:.2f}, Límite superior: {lim_superior:.2f}\")\n",
    "        print(f\"  Total de outliers: {len(outliers[col])}\")\n",
    "\n",
    "    return outliers\n",
    "\n",
    "# Detectar outliers\n",
    "outliers_detectados = detectar_outliers(customers_df, numerical_cols)"
   ]
  },
  {
   "cell_type": "markdown",
   "metadata": {
    "id": "JFF1GQSrargn"
   },
   "source": [
    "# NO ENCONTRAMOS OUTLIERS DENTRO DE LOS CAMPOS NUMERICOS `CONTINUOS`"
   ]
  },
  {
   "cell_type": "code",
   "execution_count": null,
   "metadata": {
    "colab": {
     "base_uri": "https://localhost:8080/",
     "height": 1000
    },
    "id": "6_zQX0Z7ayjq",
    "outputId": "05816cec-ea58-4bc7-e26d-c828a137c548"
   },
   "outputs": [],
   "source": [
    "#GENERAMOS LA MATRIZ DE CORRELACIONES\n",
    "corr_matrix = customers_df.corr()\n",
    "corr_matrix_redondeada = corr_matrix.round(1)\n",
    "#print(corr_matrix_redondeada)\n",
    "plt.figure(figsize=(25, 20))\n",
    "sns.heatmap(corr_matrix_redondeada, annot=True)\n",
    "plt.title(\"Matriz de Correlacion (Redondeada a 1 Decimal)\")\n",
    "plt.show()"
   ]
  },
  {
   "cell_type": "code",
   "execution_count": null,
   "metadata": {
    "id": "KyxXKLjqbgMr"
   },
   "outputs": [],
   "source": [
    "# No se encuentra una correlacion entre las features, eseptuando a las dummies creadas por feature, las cuales siguen un correlacion entre ellas"
   ]
  },
  {
   "cell_type": "markdown",
   "metadata": {
    "id": "9UlwjUycrzsE"
   },
   "source": [
    "### BUSCAMOS RELACION ENTRE LAS FEATURES Y CHURN"
   ]
  },
  {
   "cell_type": "code",
   "execution_count": null,
   "metadata": {
    "colab": {
     "base_uri": "https://localhost:8080/",
     "height": 1000
    },
    "id": "IASbUF66mIVB",
    "outputId": "855ea114-6912-475a-e2df-41dff658bfe3"
   },
   "outputs": [],
   "source": [
    "# Variables numéricas\n",
    "numerical_cols = ['tenure', 'MonthlyCharges', 'TotalCharges']\n",
    "\n",
    "x = customers_df.copy() # Creo una copia para no modificar el DF original\n",
    "\n",
    "# Boxplots para comparar distribuciones\n",
    "for col in numerical_cols:\n",
    "    plt.figure(figsize=(8, 5))\n",
    "    sns.boxplot(x=customers_df['Churn'], y=customers_df[col], palette=\"Set2\")\n",
    "    plt.title(f\"Boxplot de {col} vs Churn\")\n",
    "    plt.show()\n",
    "\n",
    "# Densidad (KDE) para ver diferencias en distribuciones\n",
    "for col in numerical_cols:\n",
    "    plt.figure(figsize=(8, 5))\n",
    "    sns.kdeplot(data=customers_df, x=col, hue='Churn', fill=True)\n",
    "    plt.title(f\"Distribución de {col} por Churn\")\n",
    "    plt.show()"
   ]
  },
  {
   "cell_type": "markdown",
   "metadata": {
    "id": "gIVDB3m-4I6o"
   },
   "source": [
    "### Los clientes con mayor permanencia(tenure) y mayor gasto total(TotalCharges) tienden a ser menos propensos a abandonar, mientras que los cargos mensuales mas altos podrian estar asociados con una mayor probabilidad de abandono.\n",
    "### Tambien hay un churn temprano, con una mediana para clientes con tenure entre 10 y 20"
   ]
  },
  {
   "cell_type": "code",
   "execution_count": null,
   "metadata": {
    "colab": {
     "base_uri": "https://localhost:8080/",
     "height": 1000
    },
    "id": "A3okAWDcm8Cs",
    "outputId": "0ebc1416-a68d-4aa1-eb65-f20bd9f5f7f6"
   },
   "outputs": [],
   "source": [
    "dummy_cols = [\n",
    "    'InternetService_DSL', 'InternetService_Fiber optic', 'InternetService_No',\n",
    "    'Contract_Month-to-month', 'Contract_One year', 'Contract_Two year',\n",
    "    'PaymentMethod_Bank transfer (automatic)', 'PaymentMethod_Credit card (automatic)',\n",
    "    'PaymentMethod_Electronic check', 'PaymentMethod_Mailed check'\n",
    "]\n",
    "\n",
    "for col in dummy_cols:\n",
    "    plt.figure(figsize=(8, 5))\n",
    "\n",
    "    # Calcular la proporcion de Churn para cada categoria de las variables dummy\n",
    "    prop_churn = customers_df.groupby(col)['Churn'].value_counts(normalize=True).unstack()\n",
    "\n",
    "    # Graficar proporciones\n",
    "    prop_churn.plot(kind='bar', stacked=True, colormap='coolwarm', alpha=0.8)\n",
    "    plt.title(f\"Distribución de Churn para {col}\")\n",
    "    plt.xlabel(col)\n",
    "    plt.ylabel(\"Proporción\")\n",
    "    plt.legend(title=\"Churn\")\n",
    "    plt.xticks(ticks=[0, 1], labels=['0 (No)', '1 (Yes)'], rotation=0)\n",
    "    plt.tight_layout()\n",
    "    plt.show()"
   ]
  },
  {
   "cell_type": "markdown",
   "metadata": {
    "id": "GHHvNEDaENsT"
   },
   "source": [
    "### VEMOS QUE PARA LOS CAMPOS:\n",
    "InternetService_Fiber optic = 1\n",
    "Contract_Month-to-month = 1\n",
    "PaymentMethod_Electronic check = 1\n",
    "### APROXIMADAMENTE EL 40% EN CADA UNO SE GENERA CHURN\n",
    "Vamos a verificar si simultaneamente hay alguna relacion"
   ]
  },
  {
   "cell_type": "code",
   "execution_count": null,
   "metadata": {
    "colab": {
     "base_uri": "https://localhost:8080/"
    },
    "id": "Ou0MKUjGm8XI",
    "outputId": "01ee3727-410d-4765-a1bc-d83a8b7e274e"
   },
   "outputs": [],
   "source": [
    "# Filtrar clientes que cumplen las tres condiciones\n",
    "filtered_customers = customers_df[\n",
    "    (customers_df['InternetService_Fiber optic'] == 1) &\n",
    "    (customers_df['Contract_Month-to-month'] == 1) &\n",
    "    (customers_df['PaymentMethod_Electronic check'] == 1)\n",
    "]\n",
    "\n",
    "# Calcular el total de clientes en este grupo\n",
    "total_filtered = filtered_customers.shape[0]\n",
    "\n",
    "# Calcular cuántos de estos tienen Churn = Yes\n",
    "churn_filtered = filtered_customers[filtered_customers['Churn'] == 'Yes'].shape[0]\n",
    "\n",
    "# Porcentaje de Churn en este grupo\n",
    "churn_percentage = (churn_filtered / total_filtered) * 100 if total_filtered > 0 else 0\n",
    "\n",
    "# Mostrar resultados\n",
    "print(f\"Total de clientes que cumplen las condiciones: {total_filtered}\")\n",
    "print(f\"Clientes con Churn = Yes: {churn_filtered}\")\n",
    "print(f\"Porcentaje de Churn en este grupo: {churn_percentage:.2f}%\")"
   ]
  },
  {
   "cell_type": "markdown",
   "metadata": {
    "id": "u8G2589IEnx8"
   },
   "source": [
    "El resultado indica que ninguno de los clientes que tienen estas características simultaneamente ha abandonado el servicio (Churn = Yes). Esto  sugiere que esta combinacion podría estar asociada con una alta retencion de clientes."
   ]
  },
  {
   "cell_type": "code",
   "execution_count": null,
   "metadata": {
    "id": "MmqgbkN2iuvn"
   },
   "outputs": [],
   "source": [
    "import pandas as pd\n",
    "import matplotlib.pyplot as plt\n",
    "import seaborn as sns\n",
    "from sklearn import metrics, svm, datasets\n",
    "from sklearn.model_selection import train_test_split, GridSearchCV\n",
    "from sklearn.pipeline import Pipeline\n",
    "from sklearn.preprocessing import StandardScaler\n",
    "from sklearn.decomposition import PCA\n",
    "from sklearn.linear_model import LogisticRegression\n",
    "from sklearn.metrics import accuracy_score, classification_report, roc_curve, auc,confusion_matrix, ConfusionMatrixDisplay"
   ]
  },
  {
   "cell_type": "code",
   "execution_count": null,
   "metadata": {
    "id": "noPnYdhnjUbO"
   },
   "outputs": [],
   "source": [
    "X = customers_df.drop('Churn', axis=1)  #todas las columnas excepto 'Churn'\n",
    "y = customers_df['Churn']  # Objetivo: 'Churn'"
   ]
  },
  {
   "cell_type": "code",
   "execution_count": null,
   "metadata": {
    "id": "r3PaNTZJjhs9"
   },
   "outputs": [],
   "source": [
    "# dividimos los datos en conjuntos de entrenamiento y prueba\n",
    "X_train, X_test, y_train, y_test = train_test_split(X, y, test_size=0.15, random_state=42)"
   ]
  },
  {
   "cell_type": "code",
   "execution_count": null,
   "metadata": {
    "colab": {
     "base_uri": "https://localhost:8080/",
     "height": 80
    },
    "id": "2eLKu2ClbLll",
    "outputId": "896b181b-ad38-4b48-cacd-16f4a88e1ad5"
   },
   "outputs": [],
   "source": [
    "# Step 4: auto scaling train- set\n",
    "\n",
    "scaler = StandardScaler()\n",
    "scaler.fit(X_train)"
   ]
  },
  {
   "cell_type": "code",
   "execution_count": null,
   "metadata": {
    "id": "IpUA88cYahlB"
   },
   "outputs": [],
   "source": [
    "# Escalado de variables\n",
    "\n",
    "X_train_scal = scaler.fit_transform(X_train)\n",
    "X_test_scal = scaler.transform(X_test)\n"
   ]
  },
  {
   "cell_type": "code",
   "execution_count": null,
   "metadata": {
    "colab": {
     "base_uri": "https://localhost:8080/",
     "height": 771
    },
    "id": "k76mdSPucRT7",
    "outputId": "95addac9-1cdc-4e23-e2d8-b8b2e16d3dfe"
   },
   "outputs": [],
   "source": [
    "fig, axs = plt.subplots(1, 3, figsize=(16,5))\n",
    "sns.heatmap(X, ax = axs[0])\n",
    "sns.heatmap(X_train_scal, ax = axs[1])\n",
    "sns.heatmap(X_test_scal, ax = axs[2])\n",
    "axs[0].set_title('Data pre-standarization')\n",
    "axs[1].set_title('Standarized train data')\n",
    "axs[2].set_title('Standarized test data')"
   ]
  },
  {
   "cell_type": "code",
   "execution_count": null,
   "metadata": {
    "id": "WRKd__0w3FaQ"
   },
   "outputs": [],
   "source": [
    "# Creo el grid search con unos hiperparametros arbitrarios. Además hago 5 crossvalidation\n",
    "param_grid = {'C': [0.1,1,5 ]}\n",
    "clf_LR = GridSearchCV(LogisticRegression(), param_grid, cv=5, verbose=1, n_jobs=-1)"
   ]
  },
  {
   "cell_type": "code",
   "execution_count": null,
   "metadata": {
    "colab": {
     "base_uri": "https://localhost:8080/",
     "height": 152
    },
    "id": "A8V19ysE4MHy",
    "outputId": "2eb8fc4b-9fc6-439a-a9cb-4a7cb46d6f37"
   },
   "outputs": [],
   "source": [
    "# fiteamos el dataset con el modelo\n",
    "clf_LR.fit(X_train_scal, y_train)\n"
   ]
  },
  {
   "cell_type": "code",
   "execution_count": null,
   "metadata": {
    "colab": {
     "base_uri": "https://localhost:8080/"
    },
    "id": "Nfu19DEv41aa",
    "outputId": "f1e0e882-1bfa-40dc-e0d1-81d3ea0325d3"
   },
   "outputs": [],
   "source": [
    "# Vemos cual fue el mejor parametro para C\n",
    "print(\"The best parameter is %s with a score of %0.2f\" % (clf_LR.best_params_, clf_LR.best_score_))\n"
   ]
  },
  {
   "cell_type": "code",
   "execution_count": null,
   "metadata": {
    "id": "HoD7aZ3rkTLX"
   },
   "outputs": [],
   "source": [
    "#hacemos las predicciones\n",
    "y_pred_LR = clf_LR.predict(X_test_scal)  # Predecir en los datos de prueba"
   ]
  },
  {
   "cell_type": "code",
   "execution_count": null,
   "metadata": {
    "colab": {
     "base_uri": "https://localhost:8080/"
    },
    "id": "dZc6I0Rykd7V",
    "outputId": "07f9d75c-ba1d-4157-854f-fbb5f49cefb7"
   },
   "outputs": [],
   "source": [
    "#evaluamos el modelo\n",
    "accuracy = accuracy_score(y_test, y_pred_LR)  # calcula la precision\n",
    "print(f\"Precisión: {accuracy}\")\n",
    "print(classification_report(y_test, y_pred_LR))  # muestra el informe de clasificacion"
   ]
  },
  {
   "cell_type": "code",
   "execution_count": null,
   "metadata": {
    "colab": {
     "base_uri": "https://localhost:8080/"
    },
    "id": "FWX4dDer51e_",
    "outputId": "455e2022-61a2-4db6-9d60-2252401933d8"
   },
   "outputs": [],
   "source": [
    "#compute and plot AUC\n",
    "y_proba = clf_LR.predict_proba(X_test_scal)\n",
    "fpr1, tpr1, thresholds = roc_curve(y_test.astype('int'), y_proba[:,1], drop_intermediate = False)\n",
    "auc_LR = metrics.auc(fpr1, tpr1)\n",
    "print(\"El AUC con Regression Lineal  es = \" + str(auc_LR))"
   ]
  },
  {
   "cell_type": "code",
   "execution_count": null,
   "metadata": {
    "colab": {
     "base_uri": "https://localhost:8080/",
     "height": 564
    },
    "id": "Y5FpCFiX6ivx",
    "outputId": "ab0df589-652f-4805-bdf1-abc48990c94d"
   },
   "outputs": [],
   "source": [
    "# Crear la figura y los subplots (1 fila, 2 columnas)\n",
    "fig, axes = plt.subplots(1, 2, figsize=(12, 6))  # 1 fila, 2 columnas\n",
    "\n",
    "# Gráfico 1: ROC Curve\n",
    "axes[0].plot(fpr1, tpr1, lw=2, alpha=0.7, label='ROC Curve', color='b')\n",
    "axes[0].plot([0,1], [0,1], linestyle='--', lw=1, color='r', label='Luck', alpha=.8)\n",
    "axes[0].set_xlabel('Falsos Positivos Rate')\n",
    "axes[0].set_ylabel('Verdaderos Positivos Rate')\n",
    "axes[0].grid(False)\n",
    "axes[0].legend(loc=\"lower right\")\n",
    "axes[0].set_title('ROC con LR ')\n",
    "\n",
    "# Gráfico 2: Matriz de Confusión\n",
    "cm = confusion_matrix(y_test, y_pred_LR)\n",
    "disp = ConfusionMatrixDisplay(confusion_matrix=cm, display_labels=clf_LR.best_estimator_.classes_)\n",
    "disp.plot(cmap='Blues', ax=axes[1])  # Usar el segundo eje para el gráfico\n",
    "axes[1].set_title(\"Matriz de Confusión LR\")\n",
    "\n",
    "plt.show()\n"
   ]
  },
  {
   "cell_type": "markdown",
   "metadata": {
    "id": "Ey0z7ipinzgK"
   },
   "source": [
    "# PCA Logistic Regression"
   ]
  },
  {
   "cell_type": "code",
   "execution_count": null,
   "metadata": {
    "id": "4-t_6uCCAZVu"
   },
   "outputs": [],
   "source": [
    "# cantidad de componentes a extraer\n",
    "n_comps = 10\n",
    "# definimos PCA\n",
    "pca = PCA(n_components= n_comps)\n",
    "# fit_transform del PCA a nuestros datos\n",
    "xpca_LR = pca.fit_transform(X_train_scal)\n",
    "xpca_test_LR = pca.fit_transform(X_test_scal)\n",
    "# obtenemos los auto-valores\n",
    "eigenvalues_LR = pca.explained_variance_ratio_"
   ]
  },
  {
   "cell_type": "code",
   "execution_count": null,
   "metadata": {
    "colab": {
     "base_uri": "https://localhost:8080/",
     "height": 454
    },
    "id": "O6852vHWAh9t",
    "outputId": "42582e98-0948-4dfe-f798-91cfe4eb6130"
   },
   "outputs": [],
   "source": [
    "sns.heatmap(xpca_LR)"
   ]
  },
  {
   "cell_type": "code",
   "execution_count": null,
   "metadata": {
    "colab": {
     "base_uri": "https://localhost:8080/",
     "height": 606
    },
    "id": "p50gqnJkAv4y",
    "outputId": "d6be84f0-4f03-4b2c-e8bf-540ced4c9e3d"
   },
   "outputs": [],
   "source": [
    "# Graficamos\n",
    "components = range(1,n_comps + 1)\n",
    "\n",
    "eigenvalues_acum = pca.explained_variance_ratio_.cumsum()\n",
    "\n",
    "# Eje Izquierdo\n",
    "fig, ax1 = plt.subplots(figsize=(12,6))\n",
    "ax1.set_xlabel('Componentes Principales',fontsize=20)\n",
    "ax1.set_ylabel('Varianza Explicada', color='k',fontsize=20)\n",
    "ax1.bar(components, eigenvalues_LR, color='blue')\n",
    "ax1.tick_params(axis='y', labelcolor='blue')\n",
    "\n",
    "# Eje derecho\n",
    "ax2 = ax1.twinx()  # instantiate a second axes that shares the same x-axis\n",
    "ax2.set_ylabel('Varianza Acumulada', color='k',fontsize=20)\n",
    "ax2.plot(components, eigenvalues_acum, color='red')\n",
    "ax2.tick_params(axis='y', labelcolor='red')\n",
    "\n",
    "fig.tight_layout()  # otherwise the right y-label is slightly clipped\n",
    "plt.show()"
   ]
  },
  {
   "cell_type": "code",
   "execution_count": null,
   "metadata": {
    "colab": {
     "base_uri": "https://localhost:8080/",
     "height": 564
    },
    "id": "ea61GXfsCb9Q",
    "outputId": "dcd5642a-e652-4328-e3fc-020f763c2945"
   },
   "outputs": [],
   "source": [
    "# Visualizo con las dos variables con mas varianza\n",
    "plt.figure(figsize=(9,6))\n",
    "plt.scatter((pd.DataFrame(xpca_LR)).iloc[:,0],(pd.DataFrame(xpca_LR)).iloc[:,1])\n",
    "plt.xlabel('PC 1')\n",
    "plt.ylabel('PC 2')\n",
    "plt.title('Figura de PC1 y PC2')\n",
    "plt.show()"
   ]
  },
  {
   "cell_type": "code",
   "execution_count": null,
   "metadata": {
    "colab": {
     "base_uri": "https://localhost:8080/"
    },
    "id": "hm67qs7vmCCK",
    "outputId": "37d6892e-b6e1-459d-95dc-18fcc34fd637"
   },
   "outputs": [],
   "source": [
    "#entrenamos y evaluamos el modelo con PCA\n",
    "clf_LR_pca = LogisticRegression(C = clf_LR.best_params_['C'])\n",
    "clf_LR_pca.fit(xpca_LR, y_train)# Ajusta el modelo con PCA a los datos de entrenamiento\n",
    "y_pred_pca = clf_LR_pca.predict(xpca_test_LR)  # Predece en los datos de prueba\n",
    "accuracy_pca = accuracy_score(y_test, y_pred_pca)  # Calcula la precision con PCA\n",
    "print(f\"Precision con PCA: {accuracy_pca}\")\n",
    "print(classification_report(y_test, y_pred_pca))  # Mostrar informe de clasificacion con PCA"
   ]
  },
  {
   "cell_type": "code",
   "execution_count": null,
   "metadata": {
    "colab": {
     "base_uri": "https://localhost:8080/"
    },
    "id": "NThXoxSAcaaq",
    "outputId": "7bd1fd9f-0bea-47c8-97ba-a83a53b0e5a3"
   },
   "outputs": [],
   "source": [
    "y_proba_pca = clf_LR_pca.predict_proba(xpca_test_LR)\n",
    "fpr2, tpr2, thresholds = roc_curve(y_test.astype('int'), y_proba_pca[:,1], drop_intermediate = False)\n",
    "auc_LR = metrics.auc(fpr2, tpr2)\n",
    "print(\"El AUC con Regression Lineal  es = \" + str(auc_LR))"
   ]
  },
  {
   "cell_type": "code",
   "execution_count": null,
   "metadata": {
    "colab": {
     "base_uri": "https://localhost:8080/",
     "height": 564
    },
    "id": "RqhjL45GWHPO",
    "outputId": "8ec01d22-0cd8-448b-f1c6-8d6067326368"
   },
   "outputs": [],
   "source": [
    "# Crear la figura y los subplots (1 fila, 2 columnas)\n",
    "fig, axes = plt.subplots(1, 2, figsize=(12, 6))  # 1 fila, 2 columnas\n",
    "\n",
    "# Gráfico 1: ROC Curve\n",
    "axes[0].plot(fpr2, tpr2, lw=2, alpha=0.7, label='ROC Curve', color='b')\n",
    "axes[0].plot([\"No se fueron\", \"Se fueron\"], [\"No se fueron\", \"Se fueron\"], linestyle='--', lw=1, color='r', label='Luck', alpha=.8)\n",
    "axes[0].set_xlabel('Falsos Positivos Rate')\n",
    "axes[0].set_ylabel('Verdaderos Positivos Rate')\n",
    "axes[0].grid(False)\n",
    "axes[0].legend(loc=\"lower right\")\n",
    "axes[0].set_title('ROC con LR y PCA')\n",
    "\n",
    "# Gráfico 2: Matriz de Confusión\n",
    "cm2 = confusion_matrix(y_test, y_pred_pca)\n",
    "disp = ConfusionMatrixDisplay(confusion_matrix=cm2, display_labels=clf_LR_pca.classes_)\n",
    "disp.plot(cmap='Blues', ax=axes[1])  # Usar el segundo eje para el gráfico\n",
    "axes[1].set_title(\"Matriz de Confusión LR Y PCA\")\n",
    "\n",
    "plt.show()"
   ]
  },
  {
   "cell_type": "code",
   "execution_count": null,
   "metadata": {
    "id": "C3V8SR3dmPyy"
   },
   "outputs": [],
   "source": [
    "from sklearn.ensemble import RandomForestClassifier\n",
    "#Hacemos un Pipeline con RF\n",
    "pipeline_rf = Pipeline([\n",
    "    ('scaler', StandardScaler()),\n",
    "    ('classifier', RandomForestClassifier(random_state=42))\n",
    "])"
   ]
  },
  {
   "cell_type": "code",
   "execution_count": null,
   "metadata": {
    "colab": {
     "base_uri": "https://localhost:8080/"
    },
    "id": "xrvOz4ejDA6d",
    "outputId": "3a5a917c-ca8e-449b-f15a-f1720cedc1a1"
   },
   "outputs": [],
   "source": [
    "#Entrenamos y evaluamos con RF\n",
    "pipeline_rf.fit(X_train, y_train)\n",
    "y_pred_rf = pipeline_rf.predict(X_test)\n",
    "accuracy_rf = accuracy_score(y_test, y_pred_rf)\n",
    "print(f\"Precisión con Random Forest: {accuracy_rf}\")\n",
    "print(classification_report(y_test, y_pred_rf))"
   ]
  },
  {
   "cell_type": "code",
   "execution_count": null,
   "metadata": {
    "id": "iC8W4EdVDEyr"
   },
   "outputs": [],
   "source": [
    "#PCA para RF\n",
    "pipeline_pca_rf = Pipeline([\n",
    "    ('scaler', StandardScaler()),\n",
    "    ('pca', PCA(n_components=0.95)),\n",
    "    ('classifier', RandomForestClassifier(random_state=42))\n",
    "])"
   ]
  },
  {
   "cell_type": "code",
   "execution_count": null,
   "metadata": {
    "colab": {
     "base_uri": "https://localhost:8080/"
    },
    "id": "4n__jx66DMgz",
    "outputId": "2bfc0695-a608-42fd-90b0-8937a9f8ee21"
   },
   "outputs": [],
   "source": [
    "#Entrenamos y evaluamos el RF con PCA\n",
    "pipeline_pca_rf.fit(X_train, y_train)\n",
    "y_pred_pca_rf = pipeline_pca_rf.predict(X_test)\n",
    "accuracy_pca_rf = accuracy_score(y_test, y_pred_pca_rf)\n",
    "print(f\"Precisión con Random Forest y PCA: {accuracy_pca_rf}\")\n",
    "print(classification_report(y_test, y_pred_pca_rf))"
   ]
  },
  {
   "cell_type": "markdown",
   "metadata": {
    "id": "2tapSOaKtUQN"
   },
   "source": [
    "# Super Vector Machine"
   ]
  },
  {
   "cell_type": "code",
   "execution_count": null,
   "metadata": {
    "colab": {
     "base_uri": "https://localhost:8080/",
     "height": 1000
    },
    "id": "ecygt947DdJP",
    "outputId": "38d92f06-6ddb-43d2-b7ee-d4024882b8a7"
   },
   "outputs": [],
   "source": [
    "# Hyperparametros\n",
    "parameters = {'kernel':('linear', 'rbf'),\n",
    "              'C':[1, 10, 20, 100],\n",
    "              'gamma':[0.1,1, 10]}\n",
    "#\n",
    "clf_SVM = GridSearchCV(svm.SVC(probability= True), param_grid = parameters, refit = True, cv = 3, verbose=2)\n",
    "\n",
    "clf_SVM.fit(X_train_scal, y_train)"
   ]
  },
  {
   "cell_type": "code",
   "execution_count": null,
   "metadata": {
    "colab": {
     "base_uri": "https://localhost:8080/"
    },
    "id": "uyD43dsyxlLr",
    "outputId": "793cb7ad-6706-4861-de07-08e2ae6921d3"
   },
   "outputs": [],
   "source": [
    "print(\"The best parameters are %s with a score of %0.2f\" % (clf_SVM.best_params_, clf_SVM.best_score_))\n"
   ]
  },
  {
   "cell_type": "code",
   "execution_count": null,
   "metadata": {
    "colab": {
     "base_uri": "https://localhost:8080/"
    },
    "id": "TxcdSJRLEAYr",
    "outputId": "90119c9f-5bd0-4a76-c2a9-e88708360dba"
   },
   "outputs": [],
   "source": [
    "#Evaluamos\n",
    "y_pred_SVM = clf_SVM.predict(X_test_scal)\n",
    "accuracy_svm = accuracy_score(y_test, y_pred_SVM)\n",
    "print(f\"Precision con SVM: {accuracy_svm}\")\n",
    "print(classification_report(y_test,y_pred_SVM ))"
   ]
  },
  {
   "cell_type": "code",
   "execution_count": null,
   "metadata": {
    "colab": {
     "base_uri": "https://localhost:8080/"
    },
    "id": "XtoN7_XW1Kvj",
    "outputId": "c0abbe37-2c44-4d75-d715-5a9605dd269d"
   },
   "outputs": [],
   "source": [
    "y_proba_SVM = clf_SVM.predict_proba(X_test_scal)\n",
    "fpr3, tpr3, thresholds = roc_curve(y_test.astype('int'), y_proba_SVM[:,1], drop_intermediate = False)\n",
    "auc_SVM= metrics.auc(fpr3, tpr3)\n",
    "print(\"El AUC con SVM  es = \" + str(auc_SVM))"
   ]
  },
  {
   "cell_type": "code",
   "execution_count": null,
   "metadata": {
    "colab": {
     "base_uri": "https://localhost:8080/",
     "height": 564
    },
    "id": "KWStWDYUTmKu",
    "outputId": "f9d4be18-c848-40e9-acc0-da2564e07ea7"
   },
   "outputs": [],
   "source": [
    "# Crear la figura y los subplots (1 fila, 2 columnas)\n",
    "fig, axes = plt.subplots(1, 2, figsize=(12, 6))  # 1 fila, 2 columnas\n",
    "\n",
    "# Gráfico 1: ROC Curve\n",
    "axes[0].plot(fpr3, tpr3, lw=2, alpha=0.7, label='ROC Curve', color='b')\n",
    "axes[0].plot([\"No se fueron\", \"Se fueron\"], [\"No se fueron\", \"Se fueron\"], linestyle='--', lw=1, color='r', label='Luck', alpha=.8)\n",
    "axes[0].set_xlabel('Falsos Positivos Rate')\n",
    "axes[0].set_ylabel('Verdaderos Positivos Rate')\n",
    "axes[0].grid(False)\n",
    "axes[0].legend(loc=\"lower right\")\n",
    "axes[0].set_title('ROC con SVM ')\n",
    "\n",
    "# Gráfico 2: Matriz de Confusión\n",
    "cm3 = confusion_matrix(y_test, y_pred_SVM)\n",
    "\n",
    "disp = ConfusionMatrixDisplay(confusion_matrix=cm3, display_labels=clf_SVM.classes_)\n",
    "disp.plot(cmap='Blues', ax=axes[1])  # Usar el segundo eje para el gráfico\n",
    "axes[1].set_title(\"Matriz de Confusión SVM\")\n",
    "\n",
    "plt.show()"
   ]
  },
  {
   "cell_type": "code",
   "execution_count": null,
   "metadata": {
    "colab": {
     "base_uri": "https://localhost:8080/"
    },
    "id": "oFfyFirxEDRc",
    "outputId": "639e5a2d-bd74-46ae-b33b-1efe8b0e2ad6"
   },
   "outputs": [],
   "source": [
    "\n",
    "#ahora con PCA\n",
    "clf_SVM_pca = Pipeline([\n",
    "    ('scaler', StandardScaler()),\n",
    "    ('pca', PCA(n_components=10)),\n",
    "    ('classifier', svm.SVC(C = clf_SVM.best_params_['C'],kernel = clf_SVM.best_params_['kernel'], gamma = clf_SVM.best_params_['gamma'], probability = True, random_state=42))\n",
    "])\n",
    "\n",
    "clf_SVM_pca.fit(X_train, y_train)\n",
    "y_pred_pca_svm = clf_SVM_pca.predict(X_test)\n",
    "accuracy_pca_svm = accuracy_score(y_test, y_pred_pca_svm)\n",
    "print(f\"Precision con SVM y PCA: {accuracy_pca_svm}\")\n",
    "print(classification_report(y_test, y_pred_pca_svm))"
   ]
  },
  {
   "cell_type": "code",
   "execution_count": null,
   "metadata": {
    "colab": {
     "base_uri": "https://localhost:8080/"
    },
    "id": "uUA_wy6mfBcw",
    "outputId": "f610f0f9-00c5-47e3-f0b7-460d0176c360"
   },
   "outputs": [],
   "source": [
    "y_proba_SVM = clf_SVM_pca.predict_proba(X_test_scal)\n",
    "fpr4, tpr4, thresholds = roc_curve(y_test.astype('int'), y_proba_SVM[:,1], drop_intermediate = False)\n",
    "auc_SVM_pca= metrics.auc(fpr4, tpr4)\n",
    "print(\"El AUC con SVM y PCA es = \" + str(auc_SVM_pca))"
   ]
  },
  {
   "cell_type": "code",
   "execution_count": null,
   "metadata": {
    "colab": {
     "base_uri": "https://localhost:8080/",
     "height": 564
    },
    "id": "6S7DBWaO6g0g",
    "outputId": "d2d870f3-da8c-473a-f5eb-01e4654812c4"
   },
   "outputs": [],
   "source": [
    "# Crear la figura y los subplots (1 fila, 2 columnas)\n",
    "fig, axes = plt.subplots(1, 2, figsize=(12, 6))  # 1 fila, 2 columnas\n",
    "\n",
    "# Gráfico 1: ROC Curve\n",
    "axes[0].plot(fpr4, tpr4, lw=2, alpha=0.7, label='ROC Curve', color='b')\n",
    "axes[0].plot([\"No se fueron\", \"Se fueron\"], [\"No se fueron\", \"Se fueron\"], linestyle='--', lw=1, color='r', label='Luck', alpha=.8)\n",
    "axes[0].set_xlabel('Falsos Positivos Rate')\n",
    "axes[0].set_ylabel('Verdaderos Positivos Rate')\n",
    "axes[0].grid(False)\n",
    "axes[0].legend(loc=\"lower right\")\n",
    "axes[0].set_title('ROC con SVM Y PCA ')\n",
    "\n",
    "# Gráfico 2: Matriz de Confusión\n",
    "cm4 = confusion_matrix(y_test, y_pred_pca_svm)\n",
    "\n",
    "disp = ConfusionMatrixDisplay(confusion_matrix=cm4, display_labels=clf_SVM.classes_)\n",
    "disp.plot(cmap='Blues', ax=axes[1])  # Usar el segundo eje para el gráfico\n",
    "axes[1].set_title(\"Matriz de Confusión SVM y PCA\")\n",
    "\n",
    "plt.show()"
   ]
  },
  {
   "cell_type": "code",
   "execution_count": null,
   "metadata": {
    "id": "IhCIV-PXEJff"
   },
   "outputs": [],
   "source": [
    "#Creamos un DF para guardar los resultados\n",
    "resultados = pd.DataFrame(columns=['Modelo', 'Precision', 'Precision con PCA'])"
   ]
  },
  {
   "cell_type": "code",
   "execution_count": null,
   "metadata": {
    "id": "ONrY5PtyEoP3"
   },
   "outputs": [],
   "source": [
    "#agregamos los resultados de cada modelo al DF\n",
    "resultados.loc[len(resultados)] = ['Regresion Logistica', accuracy, accuracy_pca]\n",
    "resultados.loc[len(resultados)] = ['Random Forest', accuracy_rf, accuracy_pca_rf]\n",
    "resultados.loc[len(resultados)] = ['SVM', accuracy_svm, accuracy_pca_svm]"
   ]
  },
  {
   "cell_type": "code",
   "execution_count": null,
   "metadata": {
    "colab": {
     "base_uri": "https://localhost:8080/"
    },
    "id": "pEK6fpkbEsYx",
    "outputId": "67b012b2-552b-44be-9d62-c6867543d1c2"
   },
   "outputs": [],
   "source": [
    "#mostramos los resultados\n",
    "print(resultados)"
   ]
  },
  {
   "cell_type": "code",
   "execution_count": null,
   "metadata": {
    "id": "EsWvOsWE63Io"
   },
   "outputs": [],
   "source": []
  },
  {
   "cell_type": "code",
   "execution_count": null,
   "metadata": {
    "id": "D-pWSd6jPxCI"
   },
   "outputs": [],
   "source": []
  },
  {
   "cell_type": "code",
   "execution_count": null,
   "metadata": {
    "id": "GuRtF3kBPw_x"
   },
   "outputs": [],
   "source": []
  },
  {
   "cell_type": "code",
   "execution_count": null,
   "metadata": {
    "id": "OtKlSywEPw9a"
   },
   "outputs": [],
   "source": []
  }
 ],
 "metadata": {
  "colab": {
   "provenance": []
  },
  "kernelspec": {
   "display_name": "Python 3 (ipykernel)",
   "language": "python",
   "name": "python3"
  },
  "language_info": {
   "codemirror_mode": {
    "name": "ipython",
    "version": 3
   },
   "file_extension": ".py",
   "mimetype": "text/x-python",
   "name": "python",
   "nbconvert_exporter": "python",
   "pygments_lexer": "ipython3",
   "version": "3.12.4"
  }
 },
 "nbformat": 4,
 "nbformat_minor": 4
}
